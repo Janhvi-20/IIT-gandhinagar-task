{
 "cells": [
  {
   "cell_type": "markdown",
   "metadata": {},
   "source": [
    "IIT GANDHI NAGAR TASK :- to analyze a thermal video"
   ]
  },
  {
   "cell_type": "code",
   "execution_count": 2,
   "metadata": {},
   "outputs": [],
   "source": [
    "import cv2\n",
    "import numpy as np\n",
    "\n",
    "cap = cv2.VideoCapture('input_video.mp4')\n",
    "\n",
    "n_frames = int(cap.get(cv2.CAP_PROP_FRAME_COUNT)) # frames caluclated \n",
    "\n",
    "fps = cap.get(cv2.CAP_PROP_FPS) #fps of the video \n",
    "\n",
    "min_frequency = 0 #minimum frequency\n",
    "max_frequency = 1 #maximum frequency\n",
    "# limit for fourier domain"
   ]
  },
  {
   "cell_type": "markdown",
   "metadata": {},
   "source": [
    "Adding input file to the open.cv and Calculation of frame count "
   ]
  },
  {
   "cell_type": "code",
   "execution_count": 3,
   "metadata": {},
   "outputs": [],
   "source": [
    "for _ in range(n_frames): #reading frame by frame\n",
    "    ret, frame = cap.read() #each fra,e is initialized\n",
    "    \n",
    "    if not ret:    #if frame is not read then break the loop\n",
    "        break\n",
    "    \n",
    "    #converts to grayscale frame \n",
    "    gray_frame = cv2.cvtColor(frame, cv2.COLOR_BGR2GRAY) \n",
    "    \n",
    "    #transforms fourier and shifts the 0 frequency to center of spectrum \n",
    "    f_transform = np.fft.fft2(gray_frame)\n",
    "    f_transform_shifted = np.fft.fftshift(f_transform)\n",
    "    \n",
    "    #\n",
    "    rows, cols = gray_frame.shape\n",
    "    frequency_x = np.fft.fftfreq(cols, d=1/fps)\n",
    "    frequency_y = np.fft.fftfreq(rows, d=1/fps)\n",
    "    \n",
    "    frequency_x_hz = np.fft.fftshift(frequency_x) * fps  \n",
    "    frequency_y_hz = np.fft.fftshift(frequency_y) * fps  \n",
    "    \n",
    "    mask_x = np.logical_and(np.abs(frequency_x_hz) >= min_frequency, np.abs(frequency_x_hz) <= max_frequency)\n",
    "    mask_y = np.logical_and(np.abs(frequency_y_hz) >= min_frequency, np.abs(frequency_y_hz) <= max_frequency)\n",
    "    \n",
    "    f_transform_shifted[~mask_y, :] = 0\n",
    "    f_transform_shifted[:, ~mask_x] = 0\n",
    "    \n",
    "    #normalization of fourier domain \n",
    "    filtered_frame = np.fft.ifft2(np.fft.ifftshift(f_transform_shifted)).real\n",
    "    \n",
    "    filtered_frame = cv2.normalize(filtered_frame, None, 0, 255, cv2.NORM_MINMAX, dtype=cv2.CV_8U) \n",
    "    \n",
    "    cv2.imshow('Filtered Frame', cv2.cvtColor(filtered_frame,cv2.COLOR_GRAY2BGR)) #display of ouput \n",
    "    \n",
    "    if cv2.waitKey(10) & 0xFF == ord('q'): #if frames finishes or q is pressed the loop will break \n",
    "        break                         # vidoe will no longer be played \n",
    "\n",
    "cap.release()\n",
    "cv2.destroyAllWindows() #destroying the rest windows"
   ]
  }
 ],
 "metadata": {
  "kernelspec": {
   "display_name": "Python 3",
   "language": "python",
   "name": "python3"
  },
  "language_info": {
   "codemirror_mode": {
    "name": "ipython",
    "version": 3
   },
   "file_extension": ".py",
   "mimetype": "text/x-python",
   "name": "python",
   "nbconvert_exporter": "python",
   "pygments_lexer": "ipython3",
   "version": "3.11.4"
  }
 },
 "nbformat": 4,
 "nbformat_minor": 2
}
